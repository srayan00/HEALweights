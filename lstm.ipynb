{
  "cells": [
    {
      "cell_type": "code",
      "execution_count": null,
      "metadata": {
        "pycharm": {
          "metadata": false,
          "name": "#%%\n"
        }
      },
      "outputs": [],
      "source": "# All the packages that were used \nimport os\nimport pandas as pd\nimport numpy as np\nfrom keras.models import Sequential\nfrom keras.layers import Dense\nfrom keras.layers import LSTM\nfrom keras.layers.embeddings import Embedding\nfrom keras.preprocessing import sequence\nfrom sklearn.model_selection import train_test_split\nfrom random import sample\nfrom sklearn.metrics import mean_squared_error\n\n"
    },
    {
      "cell_type": "code",
      "execution_count": null,
      "metadata": {
        "pycharm": {
          "metadata": false,
          "name": "#%%\n"
        }
      },
      "outputs": [],
      "source": "\n# Please change this directory name if required\ndir_name \u003d \"D:\\\\processed\"\nX \u003d []\ny \u003d []\nY \u003d []\nfiles \u003d os.listdir(dir_name)\ncount \u003d 0\nfor file in files:\n    # Only take .csv files from the directory\n    if file.endswith(\".csv\"):\n        count \u003d count+1\n        print(file)\n        filepath \u003d dir_name + \"\\\\\" + file\n        open_face_data \u003d pd.read_csv(filepath)\n        au_scores \u003d open_face_data.loc[:, [\"frame\", \" confidence\", \" AU01_r\", \" AU02_r\", \" AU04_r\", \" AU05_r\", \" AU06_r\",\n                                           \" AU07_r\", \" AU09_r\", \" AU10_r\", \" AU12_r\", \" AU14_r\",\n                                           \" AU15_r\", \" AU17_r\", \" AU20_r\", \" AU23_r\", \" AU25_r\", \" AU26_r\"]]\n        # Only want frames with \u003e 80% confidence\n        confident \u003d au_scores[au_scores[\" confidence\"] \u003e 0.8]\n        \n        # if there aren\u0027t enough samples, the video isn\u0027t included in the dataset\n        if confident.shape[0] \u003e 35:\n            \n            #This creates a sample of 35 frames and maintains the time series through sort\n            samples \u003d confident.sample(n\u003d35).sort_values(by\u003d\"frame\").drop(columns \u003d [\u0027frame\u0027, \u0027 confidence\u0027])\n            weights \u003d file.split(\u0027_\u0027)\n            weight \u003d weights[1].rstrip(\"lbs\")\n            weight \u003d float(weight)\n\n            # find the weights and accordingly decide the label\n            if weight \u003d\u003d 7.5:\n                if count \u003d\u003d 1:\n                    y \u003d np.full(35, 0).T\n                else :\n                    y \u003d np.dstack([y, np.full(35, 0).T])\n                Y.append(0)\n            elif weight \u003d\u003d 25:\n                if count \u003d\u003d 1:\n                    y \u003d np.full(35, 1).T\n                else :\n                    y \u003d np.dstack([y, np.array(np.full(35, 1).T)])\n                Y.append(1)\n            else:\n                if count \u003d\u003d 1:\n                    y \u003d np.full(35, 2).T\n                else :\n                    y \u003d np.dstack([y, np.full(35, 2).T])\n                Y.append(2)\n                \n            if count \u003d\u003d 1:\n                X \u003d samples.to_numpy()\n                \n            else:\n                print(X.shape)\n                X \u003d np.dstack([X, samples.to_numpy()])\n\n"
    },
    {
      "cell_type": "code",
      "execution_count": 12,
      "metadata": {
        "pycharm": {
          "metadata": false,
          "name": "#%%\n"
        }
      },
      "outputs": [
        {
          "name": "stdout",
          "output_type": "stream",
          "text": [
            "(3594, 35, 18)\n"
          ]
        }
      ],
      "source": "\n# Adjusting the shape of the X set to fit the LSTM\nreal_X \u003d X.reshape((X.shape[2], 35, 16))\n\n# Adjusting the shape of the y set to fit the LSTM\nreal_y \u003d y.reshape((y.shape[2], 35, 1))\n\nY \u003d np.array(Y)\n\n# Generates random numbers to select the train set\nr \u003d sample(range(0, real_X.shape[0]), 2516)\nX_train \u003d real_X[r,]\nY_train \u003d Y[r,]\nX_test \u003d np.delete(real_X, r, 0)\nY_test \u003d np.delete(Y, r, 0)\n"
    },
    {
      "cell_type": "code",
      "execution_count": null,
      "outputs": [],
      "source": "\n# 1st LSTM model. 3D input and 3D output; each frame has a lable\nmodel \u003d Sequential()\nmodel.add(LSTM(80, activation\u003d\u0027relu\u0027, input_shape\u003d(35, 16)))\nmodel.add(Dense(10, activation\u003d\u0027relu\u0027))\nmodel.add(Dense(1))\nmodel.compile(optimizer\u003d\u0027adam\u0027, loss\u003d\u0027mse\u0027)\nprint(model.summary())\nmodel.fit(real_X, real_y, epochs\u003d2000, validation_split\u003d0.2, batch_size\u003d5)\n\n",
      "metadata": {
        "pycharm": {
          "metadata": false,
          "name": "#%%\n"
        }
      }
    },
    {
      "cell_type": "code",
      "execution_count": null,
      "outputs": [],
      "source": "\n# 2nd LSTM Model. 3D input and 1D output. Each Video (batch of 35 frames and 16 features) has a label\nmodel_1 \u003d Sequential()\nmodel_1.add(LSTM(50, activation\u003d\u0027relu\u0027, input_shape\u003d(35, 16)))\nmodel_1.add(Dense(1))\nmodel_1.compile(optimizer\u003d\u0027adam\u0027, \n                loss\u003d\u0027categorical_crossentropy\u0027,\n                metrics\u003d[\u0027accuracy\u0027])\nhistory \u003d model_1.fit(real_X, Y, epochs\u003d1000, validation_split\u003d0.2, verbose\u003d1)\n",
      "metadata": {
        "pycharm": {
          "metadata": false,
          "name": "#%%\n"
        }
      }
    },
    {
      "cell_type": "code",
      "execution_count": null,
      "outputs": [],
      "source": "\n# Evaluation of 2nd LSTM Model\nprint(mean_squared_error(Y_test, model_1.predict(X_test)))\nscores \u003d model_1.evaluate(X_test, Y_test)\nprint(scores[1])\n",
      "metadata": {
        "pycharm": {
          "metadata": false,
          "name": "#%%\n"
        }
      }
    }
  ],
  "metadata": {
    "kernelspec": {
      "display_name": "Python 3",
      "language": "python",
      "name": "python3"
    },
    "language_info": {
      "codemirror_mode": {
        "name": "ipython",
        "version": 3
      },
      "file_extension": ".py",
      "mimetype": "text/x-python",
      "name": "python",
      "nbconvert_exporter": "python",
      "pygments_lexer": "ipython3",
      "version": "3.7.9"
    },
    "stem_cell": {
      "cell_type": "raw",
      "source": "",
      "metadata": {
        "pycharm": {
          "metadata": false
        }
      }
    }
  },
  "nbformat": 4,
  "nbformat_minor": 1
}